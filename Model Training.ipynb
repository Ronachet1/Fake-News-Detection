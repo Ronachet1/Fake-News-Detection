{
 "cells": [
  {
   "cell_type": "markdown",
   "metadata": {
    "id": "fkD7c3sJ6Jec"
   },
   "source": [
    "# training Model\n"
   ]
  },
  {
   "cell_type": "markdown",
   "metadata": {},
   "source": [
    "#### SVC algorithim"
   ]
  },
  {
   "cell_type": "code",
   "execution_count": 68,
   "metadata": {
    "colab": {
     "base_uri": "https://localhost:8080/"
    },
    "id": "f0C7j17m96Sq",
    "outputId": "7175ae82-655a-4fe3-bcc5-4b799c7ff1f7"
   },
   "outputs": [
    {
     "data": {
      "text/plain": [
       "LinearSVC()"
      ]
     },
     "execution_count": 68,
     "metadata": {},
     "output_type": "execute_result"
    }
   ],
   "source": [
    "from sklearn.svm import LinearSVC\n",
    "clf = LinearSVC()\n",
    "clf.fit(X_train_tfidf,y_train)"
   ]
  },
  {
   "cell_type": "markdown",
   "metadata": {},
   "source": [
    "##### in every row of the data we need to vectorize it first then applying the classififcation model so we will save these two steps in a pipeline to use it directly instead of repeating the mentioned steps"
   ]
  },
  {
   "cell_type": "code",
   "execution_count": 69,
   "metadata": {
    "id": "t4tLd2pT-r_j"
   },
   "outputs": [],
   "source": [
    "from sklearn.pipeline import Pipeline\n",
    "text_clf = Pipeline([('tfidf', TfidfVectorizer()),  \n",
    "                     ('clf', LinearSVC()),])\n",
    "\n",
    "\n",
    "text_clf.fit(X_train, y_train)  \n",
    "\n",
    "predict_train = text_clf.predict(X_train)\n",
    "predictions = text_clf.predict(X_test)"
   ]
  },
  {
   "cell_type": "markdown",
   "metadata": {
    "id": "brbFcHYO6Q49"
   },
   "source": [
    "##### calculating the accuracy"
   ]
  },
  {
   "cell_type": "code",
   "execution_count": 70,
   "metadata": {
    "colab": {
     "base_uri": "https://localhost:8080/"
    },
    "id": "EZ8s03oR-wex",
    "outputId": "2e08b022-bcb3-4a2e-89a0-0de643489a01"
   },
   "outputs": [
    {
     "name": "stdout",
     "output_type": "stream",
     "text": [
      "[[7708   58]\n",
      " [  51 6984]]\n"
     ]
    }
   ],
   "source": [
    "from sklearn import metrics\n",
    "print(metrics.confusion_matrix(y_test,predictions))"
   ]
  },
  {
   "cell_type": "code",
   "execution_count": 71,
   "metadata": {
    "colab": {
     "base_uri": "https://localhost:8080/"
    },
    "id": "e8gViZuk-2tT",
    "outputId": "7e15b821-e541-41ef-edbd-777a1c384105"
   },
   "outputs": [
    {
     "name": "stdout",
     "output_type": "stream",
     "text": [
      "              precision    recall  f1-score   support\n",
      "\n",
      "        Fake       0.99      0.99      0.99      7766\n",
      "        True       0.99      0.99      0.99      7035\n",
      "\n",
      "    accuracy                           0.99     14801\n",
      "   macro avg       0.99      0.99      0.99     14801\n",
      "weighted avg       0.99      0.99      0.99     14801\n",
      "\n"
     ]
    }
   ],
   "source": [
    "print(metrics.classification_report(y_test,predictions))"
   ]
  },
  {
   "cell_type": "code",
   "execution_count": 72,
   "metadata": {
    "colab": {
     "base_uri": "https://localhost:8080/"
    },
    "id": "_jrkN7OF-3OI",
    "outputId": "a2427ae2-096a-4f03-c294-28b748d83ed6"
   },
   "outputs": [
    {
     "name": "stdout",
     "output_type": "stream",
     "text": [
      "0.9926356327275184\n"
     ]
    }
   ],
   "source": [
    "print(metrics.accuracy_score(y_test,predictions))"
   ]
  },
  {
   "cell_type": "code",
   "execution_count": 73,
   "metadata": {
    "colab": {
     "base_uri": "https://localhost:8080/"
    },
    "id": "DREDgNu__wFP",
    "outputId": "95a43e2b-f1e5-4eb8-fd85-76c55393b514"
   },
   "outputs": [
    {
     "name": "stdout",
     "output_type": "stream",
     "text": [
      "0.9994675186368477\n"
     ]
    }
   ],
   "source": [
    "print(metrics.accuracy_score(y_train,predict_train))"
   ]
  },
  {
   "cell_type": "markdown",
   "metadata": {
    "id": "BngKACSk20iJ"
   },
   "source": [
    "#### Logistic Regression Algorithm "
   ]
  },
  {
   "cell_type": "code",
   "execution_count": 74,
   "metadata": {
    "colab": {
     "base_uri": "https://localhost:8080/"
    },
    "id": "lp-aWilUuCUI",
    "outputId": "51f60bd2-b04f-477c-a396-15739c2adc22"
   },
   "outputs": [
    {
     "data": {
      "text/plain": [
       "LogisticRegression()"
      ]
     },
     "execution_count": 74,
     "metadata": {},
     "output_type": "execute_result"
    }
   ],
   "source": [
    "from sklearn.linear_model import LogisticRegression\n",
    "cl = LogisticRegression()\n",
    "cl.fit(X_train_tfidf,y_train)"
   ]
  },
  {
   "cell_type": "code",
   "execution_count": 75,
   "metadata": {
    "id": "lf6qovJ-2_BD"
   },
   "outputs": [],
   "source": [
    "from sklearn.pipeline import Pipeline\n",
    "tex_clf = Pipeline([('tfidf', TfidfVectorizer()),\n",
    "                     ('cl', LogisticRegression()),])   #same we mentioned first but now another pipeline for the logistic regression\n",
    "\n",
    "\n",
    "tex_clf.fit(X_train, y_train)  \n",
    "\n",
    "predict_train = tex_clf.predict(X_train)\n",
    "prediction = tex_clf.predict(X_test)"
   ]
  },
  {
   "cell_type": "markdown",
   "metadata": {
    "id": "_MHFqJlI6YQc"
   },
   "source": [
    "##### calculating the accuracy "
   ]
  },
  {
   "cell_type": "code",
   "execution_count": 76,
   "metadata": {
    "colab": {
     "base_uri": "https://localhost:8080/"
    },
    "id": "ZFetVQAI3BLl",
    "outputId": "063a5b37-1b01-4f08-85ad-8f4afcfdee40"
   },
   "outputs": [
    {
     "name": "stdout",
     "output_type": "stream",
     "text": [
      "[[7640  126]\n",
      " [ 104 6931]]\n"
     ]
    }
   ],
   "source": [
    "from sklearn import metrics\n",
    "print(metrics.confusion_matrix(y_test,prediction))"
   ]
  },
  {
   "cell_type": "code",
   "execution_count": 77,
   "metadata": {
    "colab": {
     "base_uri": "https://localhost:8080/"
    },
    "id": "TYkiNbN13DGl",
    "outputId": "1959f19d-c4d5-4594-dc78-953b57a197d3"
   },
   "outputs": [
    {
     "name": "stdout",
     "output_type": "stream",
     "text": [
      "              precision    recall  f1-score   support\n",
      "\n",
      "        Fake       0.99      0.98      0.99      7766\n",
      "        True       0.98      0.99      0.98      7035\n",
      "\n",
      "    accuracy                           0.98     14801\n",
      "   macro avg       0.98      0.98      0.98     14801\n",
      "weighted avg       0.98      0.98      0.98     14801\n",
      "\n"
     ]
    }
   ],
   "source": [
    "print(metrics.classification_report(y_test,prediction))"
   ]
  },
  {
   "cell_type": "code",
   "execution_count": 78,
   "metadata": {
    "colab": {
     "base_uri": "https://localhost:8080/"
    },
    "id": "u1fmE8xv3F4a",
    "outputId": "9460011a-da40-4ff1-f128-ac803af21a8f"
   },
   "outputs": [
    {
     "name": "stdout",
     "output_type": "stream",
     "text": [
      "0.9895167731629393\n"
     ]
    }
   ],
   "source": [
    "print(metrics.accuracy_score(y_train,predict_train))"
   ]
  },
  {
   "cell_type": "code",
   "execution_count": 79,
   "metadata": {
    "colab": {
     "base_uri": "https://localhost:8080/"
    },
    "id": "jCFwYruQ3JQH",
    "outputId": "ec2f114b-d04f-4c10-c7b0-a692c6fe00da"
   },
   "outputs": [
    {
     "name": "stdout",
     "output_type": "stream",
     "text": [
      "0.9844605094250388\n"
     ]
    }
   ],
   "source": [
    "print(metrics.accuracy_score(y_test,prediction))"
   ]
  }
 ],
 "metadata": {
  "colab": {
   "provenance": []
  },
  "kernelspec": {
   "display_name": "Python 3 (ipykernel)",
   "language": "python",
   "name": "python3"
  },
  "language_info": {
   "codemirror_mode": {
    "name": "ipython",
    "version": 3
   },
   "file_extension": ".py",
   "mimetype": "text/x-python",
   "name": "python",
   "nbconvert_exporter": "python",
   "pygments_lexer": "ipython3",
   "version": "3.9.12"
  }
 },
 "nbformat": 4,
 "nbformat_minor": 1
}

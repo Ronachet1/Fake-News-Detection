{
 "cells": [
  {
   "cell_type": "markdown",
   "metadata": {},
   "source": [
    "## data pre processing"
   ]
  },
  {
   "cell_type": "code",
   "execution_count": 22,
   "metadata": {},
   "outputs": [],
   "source": [
    "unknown_publishers = []    #svaing the indexes of records without any publisher like (WASHINGTON Reuters)\n",
    "for index,row in enumerate(true_data.text.values):\n",
    "    try:\n",
    "        record = row.split(' - ',maxsplit=1)\n",
    "        record[1]\n",
    "        assert(len(record[0])<120)\n",
    "    except:\n",
    "        unknown_publishers.append(index)"
   ]
  },
  {
   "cell_type": "code",
   "execution_count": 23,
   "metadata": {},
   "outputs": [
    {
     "data": {
      "text/plain": [
       "229"
      ]
     },
     "execution_count": 23,
     "metadata": {},
     "output_type": "execute_result"
    }
   ],
   "source": [
    "len(unknown_publishers) # number of rows"
   ]
  },
  {
   "cell_type": "markdown",
   "metadata": {},
   "source": [
    "##### here we want to remove the publisher from the text of the true data to make sure the model is mostly affected by how the text is written not only with the publisher "
   ]
  },
  {
   "cell_type": "code",
   "execution_count": 24,
   "metadata": {},
   "outputs": [],
   "source": [
    "publisher=[]    \n",
    "tmptxt=[]\n",
    "for index ,row in enumerate(true_data.text.values):   #returning row and index in each loop\n",
    "    if index in unknown_publishers:\n",
    "        tmptxt.append(row)     \n",
    "        publisher.append(\"unknown\")\n",
    "    else:   \n",
    "        record = row.split('-',maxsplit=1)   #splitting by \"-\" to split the text from the publishers\n",
    "        publisher.append(record[0].strip())  #appending the publisher to publishers array\n",
    "        tmptxt.append(record[1].strip())     # saving the text without the publisher"
   ]
  },
  {
   "cell_type": "code",
   "execution_count": 25,
   "metadata": {},
   "outputs": [],
   "source": [
    "#true_data['publisher']=publisher\n",
    "true_data['text']=tmptxt"
   ]
  },
  {
   "cell_type": "code",
   "execution_count": 26,
   "metadata": {},
   "outputs": [
    {
     "data": {
      "text/html": [
       "<div>\n",
       "<style scoped>\n",
       "    .dataframe tbody tr th:only-of-type {\n",
       "        vertical-align: middle;\n",
       "    }\n",
       "\n",
       "    .dataframe tbody tr th {\n",
       "        vertical-align: top;\n",
       "    }\n",
       "\n",
       "    .dataframe thead th {\n",
       "        text-align: right;\n",
       "    }\n",
       "</style>\n",
       "<table border=\"1\" class=\"dataframe\">\n",
       "  <thead>\n",
       "    <tr style=\"text-align: right;\">\n",
       "      <th></th>\n",
       "      <th>title</th>\n",
       "      <th>text</th>\n",
       "      <th>subject</th>\n",
       "      <th>date</th>\n",
       "      <th>news status</th>\n",
       "    </tr>\n",
       "  </thead>\n",
       "  <tbody>\n",
       "    <tr>\n",
       "      <th>0</th>\n",
       "      <td>As U.S. budget fight looms, Republicans flip t...</td>\n",
       "      <td>The head of a conservative Republican faction ...</td>\n",
       "      <td>politicsNews</td>\n",
       "      <td>December 31, 2017</td>\n",
       "      <td>True</td>\n",
       "    </tr>\n",
       "    <tr>\n",
       "      <th>1</th>\n",
       "      <td>U.S. military to accept transgender recruits o...</td>\n",
       "      <td>Transgender people will be allowed for the fir...</td>\n",
       "      <td>politicsNews</td>\n",
       "      <td>December 29, 2017</td>\n",
       "      <td>True</td>\n",
       "    </tr>\n",
       "    <tr>\n",
       "      <th>2</th>\n",
       "      <td>Senior U.S. Republican senator: 'Let Mr. Muell...</td>\n",
       "      <td>The special counsel investigation of links bet...</td>\n",
       "      <td>politicsNews</td>\n",
       "      <td>December 31, 2017</td>\n",
       "      <td>True</td>\n",
       "    </tr>\n",
       "    <tr>\n",
       "      <th>3</th>\n",
       "      <td>FBI Russia probe helped by Australian diplomat...</td>\n",
       "      <td>Trump campaign adviser George Papadopoulos tol...</td>\n",
       "      <td>politicsNews</td>\n",
       "      <td>December 30, 2017</td>\n",
       "      <td>True</td>\n",
       "    </tr>\n",
       "    <tr>\n",
       "      <th>4</th>\n",
       "      <td>Trump wants Postal Service to charge 'much mor...</td>\n",
       "      <td>President Donald Trump called on the U.S. Post...</td>\n",
       "      <td>politicsNews</td>\n",
       "      <td>December 29, 2017</td>\n",
       "      <td>True</td>\n",
       "    </tr>\n",
       "    <tr>\n",
       "      <th>5</th>\n",
       "      <td>White House, Congress prepare for talks on spe...</td>\n",
       "      <td>The White House said on Friday it was set to k...</td>\n",
       "      <td>politicsNews</td>\n",
       "      <td>December 29, 2017</td>\n",
       "      <td>True</td>\n",
       "    </tr>\n",
       "    <tr>\n",
       "      <th>6</th>\n",
       "      <td>Trump says Russia probe will be fair, but time...</td>\n",
       "      <td>President Donald Trump said on Thursday he bel...</td>\n",
       "      <td>politicsNews</td>\n",
       "      <td>December 29, 2017</td>\n",
       "      <td>True</td>\n",
       "    </tr>\n",
       "    <tr>\n",
       "      <th>7</th>\n",
       "      <td>Factbox: Trump on Twitter (Dec 29) - Approval ...</td>\n",
       "      <td>The following statements were posted to the ve...</td>\n",
       "      <td>politicsNews</td>\n",
       "      <td>December 29, 2017</td>\n",
       "      <td>True</td>\n",
       "    </tr>\n",
       "    <tr>\n",
       "      <th>8</th>\n",
       "      <td>Trump on Twitter (Dec 28) - Global Warming</td>\n",
       "      <td>The following statements were posted to the ve...</td>\n",
       "      <td>politicsNews</td>\n",
       "      <td>December 29, 2017</td>\n",
       "      <td>True</td>\n",
       "    </tr>\n",
       "    <tr>\n",
       "      <th>9</th>\n",
       "      <td>Alabama official to certify Senator-elect Jone...</td>\n",
       "      <td>Alabama Secretary of State John Merrill said h...</td>\n",
       "      <td>politicsNews</td>\n",
       "      <td>December 28, 2017</td>\n",
       "      <td>True</td>\n",
       "    </tr>\n",
       "    <tr>\n",
       "      <th>10</th>\n",
       "      <td>Jones certified U.S. Senate winner despite Moo...</td>\n",
       "      <td>Alabama officials on Thursday certified Democr...</td>\n",
       "      <td>politicsNews</td>\n",
       "      <td>December 28, 2017</td>\n",
       "      <td>True</td>\n",
       "    </tr>\n",
       "    <tr>\n",
       "      <th>11</th>\n",
       "      <td>New York governor questions the constitutional...</td>\n",
       "      <td>The new U.S. tax code targets high-tax states ...</td>\n",
       "      <td>politicsNews</td>\n",
       "      <td>December 28, 2017</td>\n",
       "      <td>True</td>\n",
       "    </tr>\n",
       "    <tr>\n",
       "      <th>12</th>\n",
       "      <td>Factbox: Trump on Twitter (Dec 28) - Vanity Fa...</td>\n",
       "      <td>The following statements were posted to the ve...</td>\n",
       "      <td>politicsNews</td>\n",
       "      <td>December 28, 2017</td>\n",
       "      <td>True</td>\n",
       "    </tr>\n",
       "    <tr>\n",
       "      <th>13</th>\n",
       "      <td>Trump on Twitter (Dec 27) - Trump, Iraq, Syria</td>\n",
       "      <td>The following statements were posted to the ve...</td>\n",
       "      <td>politicsNews</td>\n",
       "      <td>December 28, 2017</td>\n",
       "      <td>True</td>\n",
       "    </tr>\n",
       "    <tr>\n",
       "      <th>14</th>\n",
       "      <td>Man says he delivered manure to Mnuchin to pro...</td>\n",
       "      <td>(In Dec. 25 story, in second paragraph, corre...</td>\n",
       "      <td>politicsNews</td>\n",
       "      <td>December 25, 2017</td>\n",
       "      <td>True</td>\n",
       "    </tr>\n",
       "    <tr>\n",
       "      <th>15</th>\n",
       "      <td>Virginia officials postpone lottery drawing to...</td>\n",
       "      <td>A lottery drawing to settle a tied Virginia le...</td>\n",
       "      <td>politicsNews</td>\n",
       "      <td>December 27, 2017</td>\n",
       "      <td>True</td>\n",
       "    </tr>\n",
       "    <tr>\n",
       "      <th>16</th>\n",
       "      <td>U.S. lawmakers question businessman at 2016 Tr...</td>\n",
       "      <td>A Georgian-American businessman who met then-M...</td>\n",
       "      <td>politicsNews</td>\n",
       "      <td>December 27, 2017</td>\n",
       "      <td>True</td>\n",
       "    </tr>\n",
       "    <tr>\n",
       "      <th>17</th>\n",
       "      <td>Trump on Twitter (Dec 26) - Hillary Clinton, T...</td>\n",
       "      <td>The following statements were posted to the ve...</td>\n",
       "      <td>politicsNews</td>\n",
       "      <td>December 26, 2017</td>\n",
       "      <td>True</td>\n",
       "    </tr>\n",
       "    <tr>\n",
       "      <th>18</th>\n",
       "      <td>U.S. appeals court rejects challenge to Trump ...</td>\n",
       "      <td>A U.S. appeals court in Washington on Tuesday ...</td>\n",
       "      <td>politicsNews</td>\n",
       "      <td>December 26, 2017</td>\n",
       "      <td>True</td>\n",
       "    </tr>\n",
       "    <tr>\n",
       "      <th>19</th>\n",
       "      <td>Treasury Secretary Mnuchin was sent gift-wrapp...</td>\n",
       "      <td>A gift-wrapped package addressed to U.S. Treas...</td>\n",
       "      <td>politicsNews</td>\n",
       "      <td>December 24, 2017</td>\n",
       "      <td>True</td>\n",
       "    </tr>\n",
       "  </tbody>\n",
       "</table>\n",
       "</div>"
      ],
      "text/plain": [
       "                                                title  \\\n",
       "0   As U.S. budget fight looms, Republicans flip t...   \n",
       "1   U.S. military to accept transgender recruits o...   \n",
       "2   Senior U.S. Republican senator: 'Let Mr. Muell...   \n",
       "3   FBI Russia probe helped by Australian diplomat...   \n",
       "4   Trump wants Postal Service to charge 'much mor...   \n",
       "5   White House, Congress prepare for talks on spe...   \n",
       "6   Trump says Russia probe will be fair, but time...   \n",
       "7   Factbox: Trump on Twitter (Dec 29) - Approval ...   \n",
       "8          Trump on Twitter (Dec 28) - Global Warming   \n",
       "9   Alabama official to certify Senator-elect Jone...   \n",
       "10  Jones certified U.S. Senate winner despite Moo...   \n",
       "11  New York governor questions the constitutional...   \n",
       "12  Factbox: Trump on Twitter (Dec 28) - Vanity Fa...   \n",
       "13     Trump on Twitter (Dec 27) - Trump, Iraq, Syria   \n",
       "14  Man says he delivered manure to Mnuchin to pro...   \n",
       "15  Virginia officials postpone lottery drawing to...   \n",
       "16  U.S. lawmakers question businessman at 2016 Tr...   \n",
       "17  Trump on Twitter (Dec 26) - Hillary Clinton, T...   \n",
       "18  U.S. appeals court rejects challenge to Trump ...   \n",
       "19  Treasury Secretary Mnuchin was sent gift-wrapp...   \n",
       "\n",
       "                                                 text       subject  \\\n",
       "0   The head of a conservative Republican faction ...  politicsNews   \n",
       "1   Transgender people will be allowed for the fir...  politicsNews   \n",
       "2   The special counsel investigation of links bet...  politicsNews   \n",
       "3   Trump campaign adviser George Papadopoulos tol...  politicsNews   \n",
       "4   President Donald Trump called on the U.S. Post...  politicsNews   \n",
       "5   The White House said on Friday it was set to k...  politicsNews   \n",
       "6   President Donald Trump said on Thursday he bel...  politicsNews   \n",
       "7   The following statements were posted to the ve...  politicsNews   \n",
       "8   The following statements were posted to the ve...  politicsNews   \n",
       "9   Alabama Secretary of State John Merrill said h...  politicsNews   \n",
       "10  Alabama officials on Thursday certified Democr...  politicsNews   \n",
       "11  The new U.S. tax code targets high-tax states ...  politicsNews   \n",
       "12  The following statements were posted to the ve...  politicsNews   \n",
       "13  The following statements were posted to the ve...  politicsNews   \n",
       "14   (In Dec. 25 story, in second paragraph, corre...  politicsNews   \n",
       "15  A lottery drawing to settle a tied Virginia le...  politicsNews   \n",
       "16  A Georgian-American businessman who met then-M...  politicsNews   \n",
       "17  The following statements were posted to the ve...  politicsNews   \n",
       "18  A U.S. appeals court in Washington on Tuesday ...  politicsNews   \n",
       "19  A gift-wrapped package addressed to U.S. Treas...  politicsNews   \n",
       "\n",
       "                  date news status  \n",
       "0   December 31, 2017         True  \n",
       "1   December 29, 2017         True  \n",
       "2   December 31, 2017         True  \n",
       "3   December 30, 2017         True  \n",
       "4   December 29, 2017         True  \n",
       "5   December 29, 2017         True  \n",
       "6   December 29, 2017         True  \n",
       "7   December 29, 2017         True  \n",
       "8   December 29, 2017         True  \n",
       "9   December 28, 2017         True  \n",
       "10  December 28, 2017         True  \n",
       "11  December 28, 2017         True  \n",
       "12  December 28, 2017         True  \n",
       "13  December 28, 2017         True  \n",
       "14  December 25, 2017         True  \n",
       "15  December 27, 2017         True  \n",
       "16  December 27, 2017         True  \n",
       "17  December 26, 2017         True  \n",
       "18  December 26, 2017         True  \n",
       "19  December 24, 2017         True  "
      ]
     },
     "execution_count": 26,
     "metadata": {},
     "output_type": "execute_result"
    }
   ],
   "source": [
    "true_data.head(20)"
   ]
  },
  {
   "cell_type": "code",
   "execution_count": 27,
   "metadata": {},
   "outputs": [],
   "source": [
    "true_data['text'] = true_data['title']+ \" \" +true_data['text']      #merging title and text because we will work on one coloumn with the classififcation \n",
    "fake_data['text'] = fake_data['title']+ \" \" +fake_data['text']  "
   ]
  },
  {
   "cell_type": "code",
   "execution_count": 28,
   "metadata": {},
   "outputs": [],
   "source": [
    "true_data['text'] = true_data['text'].apply(lambda x: str(x).lower())  #making all texts lowercase\n",
    "fake_data['text'] = fake_data['text'].apply(lambda x: str(x).lower()) "
   ]
  },
  {
   "cell_type": "markdown",
   "metadata": {},
   "source": [
    "#### now it is time to merge the data"
   ]
  },
  {
   "cell_type": "code",
   "execution_count": 29,
   "metadata": {
    "id": "Rzw8Ai5_uCUB"
   },
   "outputs": [],
   "source": [
    "data = pd.concat([fake_data,true_data], axis=0)"
   ]
  },
  {
   "cell_type": "code",
   "execution_count": 30,
   "metadata": {
    "colab": {
     "base_uri": "https://localhost:8080/",
     "height": 206
    },
    "id": "Lhbn0fjr6Qio",
    "outputId": "3f86eae0-8798-40e9-b3ce-8c9b9f247132"
   },
   "outputs": [
    {
     "data": {
      "text/plain": [
       "array(['Fake', 'True'], dtype=object)"
      ]
     },
     "execution_count": 30,
     "metadata": {},
     "output_type": "execute_result"
    }
   ],
   "source": [
    "data['news status'].unique() #checking the labels"
   ]
  },
  {
   "cell_type": "code",
   "execution_count": 31,
   "metadata": {
    "id": "PiutUQkZ3ryr"
   },
   "outputs": [],
   "source": [
    "data['text']=data['title']+''+data['text']"
   ]
  },
  {
   "cell_type": "markdown",
   "metadata": {},
   "source": [
    "##### in the following few cells our target will be to change the date which is written as a string in the data  to fixed form in order to make analysis on it"
   ]
  },
  {
   "cell_type": "code",
   "execution_count": 32,
   "metadata": {
    "colab": {
     "base_uri": "https://localhost:8080/"
    },
    "id": "lDa9CUqmuCUB",
    "outputId": "1f5dc183-140f-4347-b713-0b27c0bcc656"
   },
   "outputs": [
    {
     "data": {
      "text/plain": [
       "['June', '28, 2016']"
      ]
     },
     "execution_count": 32,
     "metadata": {},
     "output_type": "execute_result"
    }
   ],
   "source": [
    "# extract the month\n",
    "x='June 28, 2016'\n",
    "re.split('\\s',x,1)#[0]"
   ]
  },
  {
   "cell_type": "code",
   "execution_count": 33,
   "metadata": {
    "id": "ODmIRjhVuCUB"
   },
   "outputs": [],
   "source": [
    "data['month']=data['date'].apply(lambda x:re.split('\\s',x,1)[0])"
   ]
  },
  {
   "cell_type": "code",
   "execution_count": 34,
   "metadata": {
    "colab": {
     "base_uri": "https://localhost:8080/",
     "height": 35
    },
    "id": "LSa8f9JcuCUB",
    "outputId": "270d6651-94f0-401b-fc43-ae79b9c02e1b"
   },
   "outputs": [
    {
     "data": {
      "text/plain": [
       "'28'"
      ]
     },
     "execution_count": 34,
     "metadata": {},
     "output_type": "execute_result"
    }
   ],
   "source": [
    "# extract the day\n",
    "x='June 28, 2016'\n",
    "re.search('\\d{2}',x).group()"
   ]
  },
  {
   "cell_type": "code",
   "execution_count": 35,
   "metadata": {
    "id": "8nUWjtRsuCUB"
   },
   "outputs": [],
   "source": [
    "# df['day']=df['date'].apply(lambda x:re.search('\\d{2}',x).group())\n",
    "# it does not work because some dates do not have a day\n",
    "def _day_(x):\n",
    "    try:\n",
    "        value=re.search('\\d{2}',x).group()\n",
    "    except:\n",
    "        value= data['day']=np.nan\n",
    "    return value\n",
    "data['day']=data['date'].apply(_day_)"
   ]
  },
  {
   "cell_type": "code",
   "execution_count": 36,
   "metadata": {
    "colab": {
     "base_uri": "https://localhost:8080/",
     "height": 35
    },
    "id": "-5EnNUxpuCUB",
    "outputId": "e6cf2fdf-2ac0-45b8-f687-d14804def9f7"
   },
   "outputs": [
    {
     "data": {
      "text/plain": [
       "'2016'"
      ]
     },
     "execution_count": 36,
     "metadata": {},
     "output_type": "execute_result"
    }
   ],
   "source": [
    "# extract the year\n",
    "x='June 28, 2016'\n",
    "re.search('\\d{4}',x).group()"
   ]
  },
  {
   "cell_type": "code",
   "execution_count": 37,
   "metadata": {
    "id": "IuJ1Yn_YuCUC"
   },
   "outputs": [],
   "source": [
    "#df['year']=df['date'].apply(lambda x:re.search('\\d{4}',x).group())\n",
    "#it does not work because some dates do not have a year\n",
    "def _year_(x):\n",
    "    try:\n",
    "        value=re.search('\\d{4}',x).group()\n",
    "    except:\n",
    "        value= data['year']=np.nan\n",
    "    return value\n",
    "data['year']=data['date'].apply(_year_)"
   ]
  },
  {
   "cell_type": "code",
   "execution_count": 38,
   "metadata": {
    "colab": {
     "base_uri": "https://localhost:8080/"
    },
    "id": "RF3wEAsAuCUC",
    "outputId": "ed46faf1-1277-4643-aee4-b4109079be06"
   },
   "outputs": [
    {
     "data": {
      "text/plain": [
       "title           0\n",
       "text            0\n",
       "subject         0\n",
       "date            0\n",
       "news status     0\n",
       "month           0\n",
       "day             1\n",
       "year           39\n",
       "dtype: int64"
      ]
     },
     "execution_count": 38,
     "metadata": {},
     "output_type": "execute_result"
    }
   ],
   "source": [
    "# number of null values in each column\n",
    "data.isnull().sum()"
   ]
  },
  {
   "cell_type": "code",
   "execution_count": 39,
   "metadata": {
    "id": "sHFo3J1YuCUC"
   },
   "outputs": [],
   "source": [
    "data.dropna(inplace=True) #dropping nulls "
   ]
  },
  {
   "cell_type": "code",
   "execution_count": 40,
   "metadata": {
    "colab": {
     "base_uri": "https://localhost:8080/"
    },
    "id": "GuTRD2OouCUC",
    "outputId": "a8679ff3-d1d7-4619-d804-0a2daf01e00f"
   },
   "outputs": [
    {
     "data": {
      "text/plain": [
       "array(['December', 'November', 'October', 'September', 'August', 'July',\n",
       "       'June', 'May', 'April', 'March', 'February', 'January', 'Dec',\n",
       "       'Nov', 'Oct', 'Sep', 'Aug', 'Jul', 'Jun', 'Apr', 'Mar', 'Feb',\n",
       "       'Jan',\n",
       "       'https://fedup.wpengine.com/wp-content/uploads/2015/04/hillarystreetart.jpg',\n",
       "       'https://fedup.wpengine.com/wp-content/uploads/2015/04/entitled.jpg'],\n",
       "      dtype=object)"
      ]
     },
     "execution_count": 40,
     "metadata": {},
     "output_type": "execute_result"
    }
   ],
   "source": [
    "data.month.unique() #checking what values we have in month after the splitting"
   ]
  },
  {
   "cell_type": "markdown",
   "metadata": {
    "id": "5i75nOW8zgXM"
   },
   "source": [
    "##### we found unexpected value for month,lets deal with it"
   ]
  },
  {
   "cell_type": "code",
   "execution_count": 41,
   "metadata": {},
   "outputs": [
    {
     "data": {
      "text/html": [
       "<div>\n",
       "<style scoped>\n",
       "    .dataframe tbody tr th:only-of-type {\n",
       "        vertical-align: middle;\n",
       "    }\n",
       "\n",
       "    .dataframe tbody tr th {\n",
       "        vertical-align: top;\n",
       "    }\n",
       "\n",
       "    .dataframe thead th {\n",
       "        text-align: right;\n",
       "    }\n",
       "</style>\n",
       "<table border=\"1\" class=\"dataframe\">\n",
       "  <thead>\n",
       "    <tr style=\"text-align: right;\">\n",
       "      <th></th>\n",
       "      <th>title</th>\n",
       "      <th>text</th>\n",
       "      <th>subject</th>\n",
       "      <th>date</th>\n",
       "      <th>news status</th>\n",
       "      <th>month</th>\n",
       "      <th>day</th>\n",
       "      <th>year</th>\n",
       "    </tr>\n",
       "  </thead>\n",
       "  <tbody>\n",
       "    <tr>\n",
       "      <th>15839</th>\n",
       "      <td>https://fedup.wpengine.com/wp-content/uploads/...</td>\n",
       "      <td>https://fedup.wpengine.com/wp-content/uploads/...</td>\n",
       "      <td>politics</td>\n",
       "      <td>https://fedup.wpengine.com/wp-content/uploads/...</td>\n",
       "      <td>Fake</td>\n",
       "      <td>https://fedup.wpengine.com/wp-content/uploads/...</td>\n",
       "      <td>20</td>\n",
       "      <td>2015</td>\n",
       "    </tr>\n",
       "    <tr>\n",
       "      <th>17432</th>\n",
       "      <td>https://fedup.wpengine.com/wp-content/uploads/...</td>\n",
       "      <td>https://fedup.wpengine.com/wp-content/uploads/...</td>\n",
       "      <td>Government News</td>\n",
       "      <td>https://fedup.wpengine.com/wp-content/uploads/...</td>\n",
       "      <td>Fake</td>\n",
       "      <td>https://fedup.wpengine.com/wp-content/uploads/...</td>\n",
       "      <td>20</td>\n",
       "      <td>2015</td>\n",
       "    </tr>\n",
       "    <tr>\n",
       "      <th>21869</th>\n",
       "      <td>https://fedup.wpengine.com/wp-content/uploads/...</td>\n",
       "      <td>https://fedup.wpengine.com/wp-content/uploads/...</td>\n",
       "      <td>left-news</td>\n",
       "      <td>https://fedup.wpengine.com/wp-content/uploads/...</td>\n",
       "      <td>Fake</td>\n",
       "      <td>https://fedup.wpengine.com/wp-content/uploads/...</td>\n",
       "      <td>20</td>\n",
       "      <td>2015</td>\n",
       "    </tr>\n",
       "  </tbody>\n",
       "</table>\n",
       "</div>"
      ],
      "text/plain": [
       "                                                   title  \\\n",
       "15839  https://fedup.wpengine.com/wp-content/uploads/...   \n",
       "17432  https://fedup.wpengine.com/wp-content/uploads/...   \n",
       "21869  https://fedup.wpengine.com/wp-content/uploads/...   \n",
       "\n",
       "                                                    text          subject  \\\n",
       "15839  https://fedup.wpengine.com/wp-content/uploads/...         politics   \n",
       "17432  https://fedup.wpengine.com/wp-content/uploads/...  Government News   \n",
       "21869  https://fedup.wpengine.com/wp-content/uploads/...        left-news   \n",
       "\n",
       "                                                    date news status  \\\n",
       "15839  https://fedup.wpengine.com/wp-content/uploads/...        Fake   \n",
       "17432  https://fedup.wpengine.com/wp-content/uploads/...        Fake   \n",
       "21869  https://fedup.wpengine.com/wp-content/uploads/...        Fake   \n",
       "\n",
       "                                                   month day  year  \n",
       "15839  https://fedup.wpengine.com/wp-content/uploads/...  20  2015  \n",
       "17432  https://fedup.wpengine.com/wp-content/uploads/...  20  2015  \n",
       "21869  https://fedup.wpengine.com/wp-content/uploads/...  20  2015  "
      ]
     },
     "execution_count": 41,
     "metadata": {},
     "output_type": "execute_result"
    }
   ],
   "source": [
    "data[data['month']=='https://fedup.wpengine.com/wp-content/uploads/2015/04/hillarystreetart.jpg']"
   ]
  },
  {
   "cell_type": "code",
   "execution_count": 42,
   "metadata": {},
   "outputs": [],
   "source": [
    "# drop rows \n",
    "data.drop([15839,17432,21869],axis=0,inplace=True)"
   ]
  },
  {
   "cell_type": "code",
   "execution_count": 43,
   "metadata": {},
   "outputs": [
    {
     "data": {
      "text/html": [
       "<div>\n",
       "<style scoped>\n",
       "    .dataframe tbody tr th:only-of-type {\n",
       "        vertical-align: middle;\n",
       "    }\n",
       "\n",
       "    .dataframe tbody tr th {\n",
       "        vertical-align: top;\n",
       "    }\n",
       "\n",
       "    .dataframe thead th {\n",
       "        text-align: right;\n",
       "    }\n",
       "</style>\n",
       "<table border=\"1\" class=\"dataframe\">\n",
       "  <thead>\n",
       "    <tr style=\"text-align: right;\">\n",
       "      <th></th>\n",
       "      <th>title</th>\n",
       "      <th>text</th>\n",
       "      <th>subject</th>\n",
       "      <th>date</th>\n",
       "      <th>news status</th>\n",
       "      <th>month</th>\n",
       "      <th>day</th>\n",
       "      <th>year</th>\n",
       "    </tr>\n",
       "  </thead>\n",
       "  <tbody>\n",
       "    <tr>\n",
       "      <th>15840</th>\n",
       "      <td>https://fedup.wpengine.com/wp-content/uploads/...</td>\n",
       "      <td>https://fedup.wpengine.com/wp-content/uploads/...</td>\n",
       "      <td>politics</td>\n",
       "      <td>https://fedup.wpengine.com/wp-content/uploads/...</td>\n",
       "      <td>Fake</td>\n",
       "      <td>https://fedup.wpengine.com/wp-content/uploads/...</td>\n",
       "      <td>20</td>\n",
       "      <td>2015</td>\n",
       "    </tr>\n",
       "    <tr>\n",
       "      <th>17433</th>\n",
       "      <td>https://fedup.wpengine.com/wp-content/uploads/...</td>\n",
       "      <td>https://fedup.wpengine.com/wp-content/uploads/...</td>\n",
       "      <td>Government News</td>\n",
       "      <td>https://fedup.wpengine.com/wp-content/uploads/...</td>\n",
       "      <td>Fake</td>\n",
       "      <td>https://fedup.wpengine.com/wp-content/uploads/...</td>\n",
       "      <td>20</td>\n",
       "      <td>2015</td>\n",
       "    </tr>\n",
       "    <tr>\n",
       "      <th>21870</th>\n",
       "      <td>https://fedup.wpengine.com/wp-content/uploads/...</td>\n",
       "      <td>https://fedup.wpengine.com/wp-content/uploads/...</td>\n",
       "      <td>left-news</td>\n",
       "      <td>https://fedup.wpengine.com/wp-content/uploads/...</td>\n",
       "      <td>Fake</td>\n",
       "      <td>https://fedup.wpengine.com/wp-content/uploads/...</td>\n",
       "      <td>20</td>\n",
       "      <td>2015</td>\n",
       "    </tr>\n",
       "  </tbody>\n",
       "</table>\n",
       "</div>"
      ],
      "text/plain": [
       "                                                   title  \\\n",
       "15840  https://fedup.wpengine.com/wp-content/uploads/...   \n",
       "17433  https://fedup.wpengine.com/wp-content/uploads/...   \n",
       "21870  https://fedup.wpengine.com/wp-content/uploads/...   \n",
       "\n",
       "                                                    text          subject  \\\n",
       "15840  https://fedup.wpengine.com/wp-content/uploads/...         politics   \n",
       "17433  https://fedup.wpengine.com/wp-content/uploads/...  Government News   \n",
       "21870  https://fedup.wpengine.com/wp-content/uploads/...        left-news   \n",
       "\n",
       "                                                    date news status  \\\n",
       "15840  https://fedup.wpengine.com/wp-content/uploads/...        Fake   \n",
       "17433  https://fedup.wpengine.com/wp-content/uploads/...        Fake   \n",
       "21870  https://fedup.wpengine.com/wp-content/uploads/...        Fake   \n",
       "\n",
       "                                                   month day  year  \n",
       "15840  https://fedup.wpengine.com/wp-content/uploads/...  20  2015  \n",
       "17433  https://fedup.wpengine.com/wp-content/uploads/...  20  2015  \n",
       "21870  https://fedup.wpengine.com/wp-content/uploads/...  20  2015  "
      ]
     },
     "execution_count": 43,
     "metadata": {},
     "output_type": "execute_result"
    }
   ],
   "source": [
    "data[data['month']=='https://fedup.wpengine.com/wp-content/uploads/2015/04/entitled.jpg']"
   ]
  },
  {
   "cell_type": "code",
   "execution_count": 44,
   "metadata": {},
   "outputs": [],
   "source": [
    "# drop rows \n",
    "data.drop([15840,17433,21870],axis=0,inplace=True)"
   ]
  },
  {
   "cell_type": "markdown",
   "metadata": {},
   "source": [
    "##### now lets check again"
   ]
  },
  {
   "cell_type": "code",
   "execution_count": 45,
   "metadata": {},
   "outputs": [
    {
     "data": {
      "text/plain": [
       "array(['December', 'November', 'October', 'September', 'August', 'July',\n",
       "       'June', 'May', 'April', 'March', 'February', 'January', 'Dec',\n",
       "       'Nov', 'Oct', 'Sep', 'Aug', 'Jul', 'Jun', 'Apr', 'Mar', 'Feb',\n",
       "       'Jan'], dtype=object)"
      ]
     },
     "execution_count": 45,
     "metadata": {},
     "output_type": "execute_result"
    }
   ],
   "source": [
    "data.month.unique()"
   ]
  },
  {
   "cell_type": "markdown",
   "metadata": {},
   "source": [
    "##### all good lets move on"
   ]
  },
  {
   "cell_type": "code",
   "execution_count": 46,
   "metadata": {
    "id": "eyD6raUauCUE"
   },
   "outputs": [],
   "source": [
    "mon = {'January':'01',    #changing the months from letters to their corresponding nums\n",
    "        'February':'02',\n",
    "        'March':'03',\n",
    "        'April':'04',\n",
    "        'May':'05',\n",
    "        'June':'06',\n",
    "        'July':'07',\n",
    "        'August':'08',\n",
    "        'September':'09',\n",
    "        'October':'10',\n",
    "        'November':'11',\n",
    "        'December':'12',\n",
    "        'Jan':'01',\n",
    "        'Feb':'02',\n",
    "        'Mar':'03',\n",
    "        'Apr':'04',\n",
    "        'Jun':'06',\n",
    "        'Jul':'07',\n",
    "        'Aug':'08',\n",
    "        'Sep':'09',\n",
    "        'Oct':'10',\n",
    "        'Nov':'11',\n",
    "        'Dec':'12'}\n",
    "data['month']=data['month'].map(mon)"
   ]
  },
  {
   "cell_type": "code",
   "execution_count": 47,
   "metadata": {
    "colab": {
     "base_uri": "https://localhost:8080/"
    },
    "id": "to-OYivDuCUE",
    "outputId": "6865d0c5-da7d-401e-8fb3-7cc4210ac53b"
   },
   "outputs": [
    {
     "data": {
      "text/plain": [
       "array(['12', '11', '10', '09', '08', '07', '06', '05', '04', '03', '02',\n",
       "       '01'], dtype=object)"
      ]
     },
     "execution_count": 47,
     "metadata": {},
     "output_type": "execute_result"
    }
   ],
   "source": [
    "data.month.unique()"
   ]
  },
  {
   "cell_type": "code",
   "execution_count": 48,
   "metadata": {
    "id": "o3ji1CDyuCUE"
   },
   "outputs": [],
   "source": [
    "# now create a new date column clearly\n",
    "data['new_date']=data['year']+'-'+data['month']+'-'+data['day']"
   ]
  },
  {
   "cell_type": "code",
   "execution_count": 49,
   "metadata": {
    "colab": {
     "base_uri": "https://localhost:8080/",
     "height": 206
    },
    "id": "m0OSRPK_uCUF",
    "outputId": "2fedc118-c9a7-4fe5-efaa-976d73a43add"
   },
   "outputs": [
    {
     "data": {
      "text/html": [
       "<div>\n",
       "<style scoped>\n",
       "    .dataframe tbody tr th:only-of-type {\n",
       "        vertical-align: middle;\n",
       "    }\n",
       "\n",
       "    .dataframe tbody tr th {\n",
       "        vertical-align: top;\n",
       "    }\n",
       "\n",
       "    .dataframe thead th {\n",
       "        text-align: right;\n",
       "    }\n",
       "</style>\n",
       "<table border=\"1\" class=\"dataframe\">\n",
       "  <thead>\n",
       "    <tr style=\"text-align: right;\">\n",
       "      <th></th>\n",
       "      <th>title</th>\n",
       "      <th>text</th>\n",
       "      <th>subject</th>\n",
       "      <th>date</th>\n",
       "      <th>news status</th>\n",
       "      <th>month</th>\n",
       "      <th>day</th>\n",
       "      <th>year</th>\n",
       "      <th>new_date</th>\n",
       "    </tr>\n",
       "  </thead>\n",
       "  <tbody>\n",
       "    <tr>\n",
       "      <th>0</th>\n",
       "      <td>Donald Trump Sends Out Embarrassing New Year’...</td>\n",
       "      <td>Donald Trump Sends Out Embarrassing New Year’...</td>\n",
       "      <td>News</td>\n",
       "      <td>December 31, 2017</td>\n",
       "      <td>Fake</td>\n",
       "      <td>12</td>\n",
       "      <td>31</td>\n",
       "      <td>2017</td>\n",
       "      <td>2017-12-31</td>\n",
       "    </tr>\n",
       "    <tr>\n",
       "      <th>1</th>\n",
       "      <td>Drunk Bragging Trump Staffer Started Russian ...</td>\n",
       "      <td>Drunk Bragging Trump Staffer Started Russian ...</td>\n",
       "      <td>News</td>\n",
       "      <td>December 31, 2017</td>\n",
       "      <td>Fake</td>\n",
       "      <td>12</td>\n",
       "      <td>31</td>\n",
       "      <td>2017</td>\n",
       "      <td>2017-12-31</td>\n",
       "    </tr>\n",
       "    <tr>\n",
       "      <th>2</th>\n",
       "      <td>Sheriff David Clarke Becomes An Internet Joke...</td>\n",
       "      <td>Sheriff David Clarke Becomes An Internet Joke...</td>\n",
       "      <td>News</td>\n",
       "      <td>December 30, 2017</td>\n",
       "      <td>Fake</td>\n",
       "      <td>12</td>\n",
       "      <td>30</td>\n",
       "      <td>2017</td>\n",
       "      <td>2017-12-30</td>\n",
       "    </tr>\n",
       "    <tr>\n",
       "      <th>3</th>\n",
       "      <td>Trump Is So Obsessed He Even Has Obama’s Name...</td>\n",
       "      <td>Trump Is So Obsessed He Even Has Obama’s Name...</td>\n",
       "      <td>News</td>\n",
       "      <td>December 29, 2017</td>\n",
       "      <td>Fake</td>\n",
       "      <td>12</td>\n",
       "      <td>29</td>\n",
       "      <td>2017</td>\n",
       "      <td>2017-12-29</td>\n",
       "    </tr>\n",
       "    <tr>\n",
       "      <th>4</th>\n",
       "      <td>Pope Francis Just Called Out Donald Trump Dur...</td>\n",
       "      <td>Pope Francis Just Called Out Donald Trump Dur...</td>\n",
       "      <td>News</td>\n",
       "      <td>December 25, 2017</td>\n",
       "      <td>Fake</td>\n",
       "      <td>12</td>\n",
       "      <td>25</td>\n",
       "      <td>2017</td>\n",
       "      <td>2017-12-25</td>\n",
       "    </tr>\n",
       "  </tbody>\n",
       "</table>\n",
       "</div>"
      ],
      "text/plain": [
       "                                               title  \\\n",
       "0   Donald Trump Sends Out Embarrassing New Year’...   \n",
       "1   Drunk Bragging Trump Staffer Started Russian ...   \n",
       "2   Sheriff David Clarke Becomes An Internet Joke...   \n",
       "3   Trump Is So Obsessed He Even Has Obama’s Name...   \n",
       "4   Pope Francis Just Called Out Donald Trump Dur...   \n",
       "\n",
       "                                                text subject  \\\n",
       "0   Donald Trump Sends Out Embarrassing New Year’...    News   \n",
       "1   Drunk Bragging Trump Staffer Started Russian ...    News   \n",
       "2   Sheriff David Clarke Becomes An Internet Joke...    News   \n",
       "3   Trump Is So Obsessed He Even Has Obama’s Name...    News   \n",
       "4   Pope Francis Just Called Out Donald Trump Dur...    News   \n",
       "\n",
       "                date news status month day  year    new_date  \n",
       "0  December 31, 2017        Fake    12  31  2017  2017-12-31  \n",
       "1  December 31, 2017        Fake    12  31  2017  2017-12-31  \n",
       "2  December 30, 2017        Fake    12  30  2017  2017-12-30  \n",
       "3  December 29, 2017        Fake    12  29  2017  2017-12-29  \n",
       "4  December 25, 2017        Fake    12  25  2017  2017-12-25  "
      ]
     },
     "execution_count": 49,
     "metadata": {},
     "output_type": "execute_result"
    }
   ],
   "source": [
    "data.head()"
   ]
  },
  {
   "cell_type": "code",
   "execution_count": 50,
   "metadata": {
    "id": "ysz0sUO2uCUF"
   },
   "outputs": [],
   "source": [
    "# now I can convert to date time\n",
    "data['new_date']=pd.to_datetime(data['new_date'])"
   ]
  },
  {
   "cell_type": "code",
   "execution_count": 51,
   "metadata": {
    "id": "TXeOaGVnuCUF"
   },
   "outputs": [],
   "source": [
    "# drop columns 'date','day','month','year'\n",
    "data.drop(columns=['date','day','month','year'],inplace=True)"
   ]
  },
  {
   "cell_type": "markdown",
   "metadata": {},
   "source": [
    "##### now the news data is ready to be plotted over the months"
   ]
  },
  {
   "cell_type": "code",
   "execution_count": 54,
   "metadata": {
    "colab": {
     "base_uri": "https://localhost:8080/",
     "height": 422
    },
    "id": "JyWwnz1Kvj_j",
    "outputId": "e51c1263-7bd8-47cc-a000-5d55f0a2d005"
   },
   "outputs": [
    {
     "data": {
      "image/png": "[encoded data removed]",
      "text/plain": [
       "<Figure size 1440x432 with 1 Axes>"
      ]
     },
     "metadata": {
      "needs_background": "light"
     },
     "output_type": "display_data"
    }
   ],
   "source": [
    "plt.figure(figsize=(20,6))\n",
    "data[data['news status']=='Fake'].groupby([pd.Grouper(key='new_date', freq='W')])['news status'].count().plot(kind='line',label='fake',c='red')\n",
    "data[data['news status']=='True'].groupby([pd.Grouper(key='new_date', freq='W')])['news status'].count().plot(kind='line',label='true')\n",
    "plt.title(\"news over the months \",\n",
    "          fontsize='20',\n",
    "          backgroundcolor='white',\n",
    "          color='Purple')\n",
    "plt.legend();"
   ]
  },
  {
   "cell_type": "markdown",
   "metadata": {},
   "source": [
    "##### in the previous plot we are able to see that the graph is continious because we nearly have a news in every day from this giving interval"
   ]
  },
  {
   "cell_type": "code",
   "execution_count": 55,
   "metadata": {
    "colab": {
     "base_uri": "https://localhost:8080/",
     "height": 206
    },
    "id": "ePYIj4TJuCUF",
    "outputId": "e50dd213-5994-4d6d-a162-81e05de602bf"
   },
   "outputs": [
    {
     "data": {
      "text/html": [
       "<div>\n",
       "<style scoped>\n",
       "    .dataframe tbody tr th:only-of-type {\n",
       "        vertical-align: middle;\n",
       "    }\n",
       "\n",
       "    .dataframe tbody tr th {\n",
       "        vertical-align: top;\n",
       "    }\n",
       "\n",
       "    .dataframe thead th {\n",
       "        text-align: right;\n",
       "    }\n",
       "</style>\n",
       "<table border=\"1\" class=\"dataframe\">\n",
       "  <thead>\n",
       "    <tr style=\"text-align: right;\">\n",
       "      <th></th>\n",
       "      <th>title</th>\n",
       "      <th>text</th>\n",
       "      <th>subject</th>\n",
       "      <th>news status</th>\n",
       "      <th>new_date</th>\n",
       "    </tr>\n",
       "  </thead>\n",
       "  <tbody>\n",
       "    <tr>\n",
       "      <th>0</th>\n",
       "      <td>Donald Trump Sends Out Embarrassing New Year’...</td>\n",
       "      <td>Donald Trump Sends Out Embarrassing New Year’...</td>\n",
       "      <td>News</td>\n",
       "      <td>Fake</td>\n",
       "      <td>2017-12-31</td>\n",
       "    </tr>\n",
       "    <tr>\n",
       "      <th>1</th>\n",
       "      <td>Drunk Bragging Trump Staffer Started Russian ...</td>\n",
       "      <td>Drunk Bragging Trump Staffer Started Russian ...</td>\n",
       "      <td>News</td>\n",
       "      <td>Fake</td>\n",
       "      <td>2017-12-31</td>\n",
       "    </tr>\n",
       "    <tr>\n",
       "      <th>2</th>\n",
       "      <td>Sheriff David Clarke Becomes An Internet Joke...</td>\n",
       "      <td>Sheriff David Clarke Becomes An Internet Joke...</td>\n",
       "      <td>News</td>\n",
       "      <td>Fake</td>\n",
       "      <td>2017-12-30</td>\n",
       "    </tr>\n",
       "    <tr>\n",
       "      <th>3</th>\n",
       "      <td>Trump Is So Obsessed He Even Has Obama’s Name...</td>\n",
       "      <td>Trump Is So Obsessed He Even Has Obama’s Name...</td>\n",
       "      <td>News</td>\n",
       "      <td>Fake</td>\n",
       "      <td>2017-12-29</td>\n",
       "    </tr>\n",
       "    <tr>\n",
       "      <th>4</th>\n",
       "      <td>Pope Francis Just Called Out Donald Trump Dur...</td>\n",
       "      <td>Pope Francis Just Called Out Donald Trump Dur...</td>\n",
       "      <td>News</td>\n",
       "      <td>Fake</td>\n",
       "      <td>2017-12-25</td>\n",
       "    </tr>\n",
       "  </tbody>\n",
       "</table>\n",
       "</div>"
      ],
      "text/plain": [
       "                                               title  \\\n",
       "0   Donald Trump Sends Out Embarrassing New Year’...   \n",
       "1   Drunk Bragging Trump Staffer Started Russian ...   \n",
       "2   Sheriff David Clarke Becomes An Internet Joke...   \n",
       "3   Trump Is So Obsessed He Even Has Obama’s Name...   \n",
       "4   Pope Francis Just Called Out Donald Trump Dur...   \n",
       "\n",
       "                                                text subject news status  \\\n",
       "0   Donald Trump Sends Out Embarrassing New Year’...    News        Fake   \n",
       "1   Drunk Bragging Trump Staffer Started Russian ...    News        Fake   \n",
       "2   Sheriff David Clarke Becomes An Internet Joke...    News        Fake   \n",
       "3   Trump Is So Obsessed He Even Has Obama’s Name...    News        Fake   \n",
       "4   Pope Francis Just Called Out Donald Trump Dur...    News        Fake   \n",
       "\n",
       "    new_date  \n",
       "0 2017-12-31  \n",
       "1 2017-12-31  \n",
       "2 2017-12-30  \n",
       "3 2017-12-29  \n",
       "4 2017-12-25  "
      ]
     },
     "execution_count": 55,
     "metadata": {},
     "output_type": "execute_result"
    }
   ],
   "source": [
    "data.head()"
   ]
  },
  {
   "cell_type": "code",
   "execution_count": 56,
   "metadata": {
    "id": "px56EEOK6wkG"
   },
   "outputs": [],
   "source": [
    "data=shuffle(data)"
   ]
  },
  {
   "cell_type": "code",
   "execution_count": 57,
   "metadata": {
    "colab": {
     "base_uri": "https://localhost:8080/",
     "height": 206
    },
    "id": "Cy_vS2RV6_zf",
    "outputId": "e81b44b4-efe0-493f-be71-4e3b843311b8"
   },
   "outputs": [
    {
     "data": {
      "text/html": [
       "<div>\n",
       "<style scoped>\n",
       "    .dataframe tbody tr th:only-of-type {\n",
       "        vertical-align: middle;\n",
       "    }\n",
       "\n",
       "    .dataframe tbody tr th {\n",
       "        vertical-align: top;\n",
       "    }\n",
       "\n",
       "    .dataframe thead th {\n",
       "        text-align: right;\n",
       "    }\n",
       "</style>\n",
       "<table border=\"1\" class=\"dataframe\">\n",
       "  <thead>\n",
       "    <tr style=\"text-align: right;\">\n",
       "      <th></th>\n",
       "      <th>title</th>\n",
       "      <th>text</th>\n",
       "      <th>subject</th>\n",
       "      <th>news status</th>\n",
       "      <th>new_date</th>\n",
       "    </tr>\n",
       "  </thead>\n",
       "  <tbody>\n",
       "    <tr>\n",
       "      <th>16844</th>\n",
       "      <td>Iraq increases oil exports from south to make ...</td>\n",
       "      <td>Iraq increases oil exports from south to make ...</td>\n",
       "      <td>worldnews</td>\n",
       "      <td>True</td>\n",
       "      <td>2017-10-21</td>\n",
       "    </tr>\n",
       "    <tr>\n",
       "      <th>16021</th>\n",
       "      <td>Turkey, Iran agree to discuss Russia's Syrian ...</td>\n",
       "      <td>Turkey, Iran agree to discuss Russia's Syrian ...</td>\n",
       "      <td>worldnews</td>\n",
       "      <td>True</td>\n",
       "      <td>2017-10-31</td>\n",
       "    </tr>\n",
       "    <tr>\n",
       "      <th>21375</th>\n",
       "      <td>GERMAN VOLUNTEERS HOLD WELCOME RALLY: Applaud ...</td>\n",
       "      <td>GERMAN VOLUNTEERS HOLD WELCOME RALLY: Applaud ...</td>\n",
       "      <td>left-news</td>\n",
       "      <td>Fake</td>\n",
       "      <td>2015-10-31</td>\n",
       "    </tr>\n",
       "    <tr>\n",
       "      <th>14783</th>\n",
       "      <td>Indian police arrest suspected cow vigilantes ...</td>\n",
       "      <td>Indian police arrest suspected cow vigilantes ...</td>\n",
       "      <td>worldnews</td>\n",
       "      <td>True</td>\n",
       "      <td>2017-11-15</td>\n",
       "    </tr>\n",
       "    <tr>\n",
       "      <th>18665</th>\n",
       "      <td>‘Who Appointed You to the Supreme Court?’: Sen...</td>\n",
       "      <td>‘Who Appointed You to the Supreme Court?’: Sen...</td>\n",
       "      <td>left-news</td>\n",
       "      <td>Fake</td>\n",
       "      <td>2017-05-20</td>\n",
       "    </tr>\n",
       "  </tbody>\n",
       "</table>\n",
       "</div>"
      ],
      "text/plain": [
       "                                                   title  \\\n",
       "16844  Iraq increases oil exports from south to make ...   \n",
       "16021  Turkey, Iran agree to discuss Russia's Syrian ...   \n",
       "21375  GERMAN VOLUNTEERS HOLD WELCOME RALLY: Applaud ...   \n",
       "14783  Indian police arrest suspected cow vigilantes ...   \n",
       "18665  ‘Who Appointed You to the Supreme Court?’: Sen...   \n",
       "\n",
       "                                                    text    subject  \\\n",
       "16844  Iraq increases oil exports from south to make ...  worldnews   \n",
       "16021  Turkey, Iran agree to discuss Russia's Syrian ...  worldnews   \n",
       "21375  GERMAN VOLUNTEERS HOLD WELCOME RALLY: Applaud ...  left-news   \n",
       "14783  Indian police arrest suspected cow vigilantes ...  worldnews   \n",
       "18665  ‘Who Appointed You to the Supreme Court?’: Sen...  left-news   \n",
       "\n",
       "      news status   new_date  \n",
       "16844        True 2017-10-21  \n",
       "16021        True 2017-10-31  \n",
       "21375        Fake 2015-10-31  \n",
       "14783        True 2017-11-15  \n",
       "18665        Fake 2017-05-20  "
      ]
     },
     "execution_count": 57,
     "metadata": {},
     "output_type": "execute_result"
    }
   ],
   "source": [
    "data.head()"
   ]
  },
  {
   "cell_type": "code",
   "execution_count": 58,
   "metadata": {
    "colab": {
     "base_uri": "https://localhost:8080/"
    },
    "id": "pVfbi4Rm8Zq8",
    "outputId": "a22f6bb7-7a34-4315-9c91-b61f2016c7f0"
   },
   "outputs": [
    {
     "name": "stdout",
     "output_type": "stream",
     "text": [
      "<class 'pandas.core.frame.DataFrame'>\n",
      "Int64Index: 44849 entries, 16844 to 3505\n",
      "Data columns (total 5 columns):\n",
      " #   Column       Non-Null Count  Dtype         \n",
      "---  ------       --------------  -----         \n",
      " 0   title        44849 non-null  object        \n",
      " 1   text         44849 non-null  object        \n",
      " 2   subject      44849 non-null  object        \n",
      " 3   news status  44849 non-null  object        \n",
      " 4   new_date     44849 non-null  datetime64[ns]\n",
      "dtypes: datetime64[ns](1), object(4)\n",
      "memory usage: 2.1+ MB\n"
     ]
    }
   ],
   "source": [
    "data.info()"
   ]
  },
  {
   "cell_type": "code",
   "execution_count": 59,
   "metadata": {
    "colab": {
     "base_uri": "https://localhost:8080/"
    },
    "id": "y3Llvand8xWk",
    "outputId": "432941ac-30e0-429c-e244-f3339885680c"
   },
   "outputs": [
    {
     "data": {
      "text/plain": [
       "title          0\n",
       "text           0\n",
       "subject        0\n",
       "news status    0\n",
       "new_date       0\n",
       "dtype: int64"
      ]
     },
     "execution_count": 59,
     "metadata": {},
     "output_type": "execute_result"
    }
   ],
   "source": [
    "data.isnull().sum()"
   ]
  },
  {
   "cell_type": "code",
   "execution_count": 60,
   "metadata": {
    "id": "rwW36V4I9Htd"
   },
   "outputs": [],
   "source": [
    "from sklearn.model_selection import train_test_split\n",
    "\n",
    "X = data['text']  \n",
    "y = data['news status']\n",
    "\n",
    "X_train, X_test, y_train, y_test = train_test_split(X, y, test_size=0.33, random_state=42)"
   ]
  },
  {
   "cell_type": "code",
   "execution_count": 61,
   "metadata": {
    "colab": {
     "base_uri": "https://localhost:8080/"
    },
    "id": "PmaCI6l59aEY",
    "outputId": "0a24c2b8-b240-4357-db1e-31603697d119"
   },
   "outputs": [
    {
     "data": {
      "text/plain": [
       "Fake    15670\n",
       "True    14378\n",
       "Name: news status, dtype: int64"
      ]
     },
     "execution_count": 61,
     "metadata": {},
     "output_type": "execute_result"
    }
   ],
   "source": [
    "y_train.value_counts()"
   ]
  },
  {
   "cell_type": "code",
   "execution_count": 62,
   "metadata": {
    "colab": {
     "base_uri": "https://localhost:8080/"
    },
    "id": "HbkDq2iZ9fU6",
    "outputId": "29e792e4-5690-4028-f7e7-519ae85a6c48"
   },
   "outputs": [
    {
     "data": {
      "text/plain": [
       "Fake    7766\n",
       "True    7035\n",
       "Name: news status, dtype: int64"
      ]
     },
     "execution_count": 62,
     "metadata": {},
     "output_type": "execute_result"
    }
   ],
   "source": [
    "y_test.value_counts()"
   ]
  },
  {
   "cell_type": "markdown",
   "metadata": {
    "id": "QFUQ1rLQ5JtQ"
   },
   "source": [
    "### TEXT PREPROCESSING (NLP) \n",
    "#### by making vactorization for the text in order to convert the text into numerical vectors which the model can deal with"
   ]
  },
  {
   "cell_type": "code",
   "execution_count": 63,
   "metadata": {
    "colab": {
     "base_uri": "https://localhost:8080/"
    },
    "id": "viqABWVO9j_T",
    "outputId": "e2bd120d-740c-4e23-974a-d2096bbd002c"
   },
   "outputs": [
    {
     "data": {
      "text/plain": [
       "(30048, 117294)"
      ]
     },
     "execution_count": 63,
     "metadata": {},
     "output_type": "execute_result"
    }
   ],
   "source": [
    "from sklearn.feature_extraction.text import CountVectorizer   \n",
    "count_vect = CountVectorizer()\n",
    "\n",
    "X_train_counts = count_vect.fit_transform(X_train)\n",
    "X_train_counts.shape"
   ]
  },
  {
   "cell_type": "code",
   "execution_count": 64,
   "metadata": {
    "colab": {
     "base_uri": "https://localhost:8080/"
    },
    "id": "zMQBZs-I9s3S",
    "outputId": "94b0140d-a8b8-492e-dfb6-c422d0524943"
   },
   "outputs": [
    {
     "data": {
      "text/plain": [
       "(30048, 117294)"
      ]
     },
     "execution_count": 64,
     "metadata": {},
     "output_type": "execute_result"
    }
   ],
   "source": [
    "from sklearn.feature_extraction.text import TfidfTransformer\n",
    "tfidf_transformer = TfidfTransformer()\n",
    "\n",
    "X_train_tfidf = tfidf_transformer.fit_transform(X_train_counts)\n",
    "X_train_tfidf.shape"
   ]
  },
  {
   "cell_type": "code",
   "execution_count": 65,
   "metadata": {
    "colab": {
     "base_uri": "https://localhost:8080/"
    },
    "id": "zVy_CLkG9xfL",
    "outputId": "d413e049-fe2a-4b2f-87c6-7b5a67103407"
   },
   "outputs": [
    {
     "data": {
      "text/plain": [
       "0          (0, 116195)\\t0.08212109340840058\\n  (0, 1159...\n",
       "1          (0, 116222)\\t0.022340785210868973\\n  (0, 116...\n",
       "2          (0, 115818)\\t0.017018049511222304\\n  (0, 114...\n",
       "3          (0, 116158)\\t0.027718410034773204\\n  (0, 115...\n",
       "4          (0, 116195)\\t0.03870942618670194\\n  (0, 1143...\n",
       "                               ...                        \n",
       "30043      (0, 116195)\\t0.037397897189716756\\n  (0, 115...\n",
       "30044      (0, 114730)\\t0.058606418415752315\\n  (0, 112...\n",
       "30045      (0, 116195)\\t0.1037092080589884\\n  (0, 11581...\n",
       "30046      (0, 116777)\\t0.053002344692350725\\n  (0, 116...\n",
       "30047      (0, 116195)\\t0.06620536002713795\\n  (0, 1149...\n",
       "Name: 0, Length: 30048, dtype: object"
      ]
     },
     "execution_count": 65,
     "metadata": {},
     "output_type": "execute_result"
    }
   ],
   "source": [
    "pd.DataFrame(X_train_tfidf)[0]"
   ]
  },
  {
   "cell_type": "markdown",
   "metadata": {
    "id": "7tCCoifw5l0W"
   },
   "source": [
    "##### using tfidf to make analysis characterstics of the text "
   ]
  },
  {
   "cell_type": "code",
   "execution_count": 67,
   "metadata": {
    "colab": {
     "base_uri": "https://localhost:8080/"
    },
    "id": "G6oPNB8y92Fl",
    "outputId": "3b45b4f1-3f2d-4285-ac9e-e60a0c8a0d96"
   },
   "outputs": [
    {
     "data": {
      "text/plain": [
       "(30048, 117294)"
      ]
     },
     "execution_count": 67,
     "metadata": {},
     "output_type": "execute_result"
    }
   ],
   "source": [
    "from sklearn.feature_extraction.text import TfidfVectorizer\n",
    "vectorizer = TfidfVectorizer()\n",
    "\n",
    "X_train_tfidf = vectorizer.fit_transform(X_train) # remember to use the original X_train set\n",
    "X_train_tfidf.shape"
   ]
  }
 ],
 "metadata": {
  "colab": {
   "provenance": []
  },
  "kernelspec": {
   "display_name": "Python 3 (ipykernel)",
   "language": "python",
   "name": "python3"
  },
  "language_info": {
   "codemirror_mode": {
    "name": "ipython",
    "version": 3
   },
   "file_extension": ".py",
   "mimetype": "text/x-python",
   "name": "python",
   "nbconvert_exporter": "python",
   "pygments_lexer": "ipython3",
   "version": "3.9.12"
  }
 },
 "nbformat": 4,
 "nbformat_minor": 1
}
